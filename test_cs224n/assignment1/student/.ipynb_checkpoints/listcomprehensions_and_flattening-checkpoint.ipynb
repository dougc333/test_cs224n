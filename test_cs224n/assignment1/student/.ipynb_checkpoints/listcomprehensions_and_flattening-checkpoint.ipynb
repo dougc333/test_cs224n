{
 "cells": [
  {
   "cell_type": "code",
   "execution_count": 14,
   "id": "7e2916d2-36ff-4a19-a89d-a995c1eedda0",
   "metadata": {},
   "outputs": [
    {
     "data": {
      "text/plain": [
       "[[1, 2, 3, 4, 5],\n",
       " [1, 2, 3, 4, 5],\n",
       " [1, 2, 3, 4, 5],\n",
       " [1, 2, 3, 4, 5],\n",
       " [1, 2, 3, 4, 5]]"
      ]
     },
     "execution_count": 14,
     "metadata": {},
     "output_type": "execute_result"
    }
   ],
   "source": [
    "a = []\n",
    "x = [1,2,3,4,5]\n",
    "[element for element in x ] # this prints out element\n",
    "#note we arent assigning the list comprehension to anything\n",
    "# we have 2 choices element or x\n",
    "[x for element in x] #"
   ]
  },
  {
   "cell_type": "code",
   "execution_count": 5,
   "id": "7f3f1c50-fcf4-4390-a49d-48f44bddd96e",
   "metadata": {},
   "outputs": [
    {
     "name": "stdout",
     "output_type": "stream",
     "text": [
      "1\n",
      "2\n",
      "3\n",
      "4\n",
      "5\n"
     ]
    }
   ],
   "source": [
    "# equivalent to\n",
    "for element in x:\n",
    "    print(element)"
   ]
  },
  {
   "cell_type": "markdown",
   "id": "c36baf5f-e836-48c2-af89-e6685520e39c",
   "metadata": {},
   "source": [
    "If we assign the list comprehension to an empty list or a variable then that is the same as append in the non list comprehension case"
   ]
  },
  {
   "cell_type": "code",
   "execution_count": 11,
   "id": "60e947a3-b02e-4269-84c3-8141f61b3c99",
   "metadata": {},
   "outputs": [
    {
     "name": "stdout",
     "output_type": "stream",
     "text": [
      "[4, 5]\n"
     ]
    }
   ],
   "source": [
    "a = [] #optional but easier to see the equivalence with this \n",
    "x = [1,2,3,4,5]\n",
    "a = [element for element in x if element > 3] \n",
    "print(a)"
   ]
  },
  {
   "cell_type": "code",
   "execution_count": 7,
   "id": "b2dcd86a-2461-4ba6-9ece-b99b763091a5",
   "metadata": {},
   "outputs": [
    {
     "name": "stdout",
     "output_type": "stream",
     "text": [
      "[4, 5]\n"
     ]
    }
   ],
   "source": [
    "a=[]\n",
    "for element in x: \n",
    "    if element > 3:\n",
    "        a.append(element)\n",
    "print(a)"
   ]
  },
  {
   "cell_type": "code",
   "execution_count": 12,
   "id": "8aa51c66-de72-4027-ab9e-b0221e0f6802",
   "metadata": {},
   "outputs": [
    {
     "data": {
      "text/plain": [
       "[[1, 2], [3, 4, 5]]"
      ]
     },
     "execution_count": 12,
     "metadata": {},
     "output_type": "execute_result"
    }
   ],
   "source": [
    "x = [[1,2],[3,4,5]]\n",
    "[?? for sublist in x for element in sublist] where ?? can be sublist, list or element. We probably want element"
   ]
  },
  {
   "cell_type": "code",
   "execution_count": 35,
   "id": "cde458c6-ad38-45da-8115-cc9da7954051",
   "metadata": {
    "jp-MarkdownHeadingCollapsed": true
   },
   "outputs": [
    {
     "ename": "SyntaxError",
     "evalue": "expected ':' (3453477049.py, line 4)",
     "output_type": "error",
     "traceback": [
      "\u001b[0;36m  Cell \u001b[0;32mIn[35], line 4\u001b[0;36m\u001b[0m\n\u001b[0;31m    for element in sublist\u001b[0m\n\u001b[0m                          ^\u001b[0m\n\u001b[0;31mSyntaxError\u001b[0m\u001b[0;31m:\u001b[0m expected ':'\n"
     ]
    }
   ],
   "source": [
    "# Template for nesting loops in a list comprehension\n",
    "## Rule: the left most loop in LC matches the outer for in loop. \n",
    "for sublist in array:\n",
    "    for element in sublist\n",
    "#looks like:\n",
    "[?? for sublist in array for element in sublist] where ?? is what you want to print out, element, sublist, array. 3 choices"
   ]
  },
  {
   "cell_type": "code",
   "execution_count": 16,
   "id": "d7440b7f-4402-4126-96d6-201c988cfffa",
   "metadata": {},
   "outputs": [
    {
     "name": "stdout",
     "output_type": "stream",
     "text": [
      "[1, 2, 3, 4, 5]\n"
     ]
    }
   ],
   "source": [
    "x = [[1,2],[3,4,5]]\n",
    "a = [element for sublist in x for element in sublist]\n",
    "print(a)\n"
   ]
  },
  {
   "cell_type": "code",
   "execution_count": 17,
   "id": "a9ad74e5-5d48-40bc-9c08-f3c12dca7d95",
   "metadata": {},
   "outputs": [
    {
     "data": {
      "text/plain": [
       "[5, 5, 5, 5]"
      ]
     },
     "execution_count": 17,
     "metadata": {},
     "output_type": "execute_result"
    }
   ],
   "source": [
    "#nesting loops work from left to right. Left is the sublist loop first\n",
    "x = [[1,2],[3,4,5]]\n",
    "[element for sublist in x for sublist in x]"
   ]
  },
  {
   "cell_type": "code",
   "execution_count": 32,
   "id": "493e37af-b83b-46a7-bdd1-d1111eb8d317",
   "metadata": {},
   "outputs": [
    {
     "data": {
      "text/plain": [
       "[2, 5]"
      ]
     },
     "execution_count": 32,
     "metadata": {},
     "output_type": "execute_result"
    }
   ],
   "source": [
    "# given a list of strings return the indexes of a match. There may be more than 1 match\n",
    "s2 = ['<START>', \"All's\", 'well', 'that', 'ends', 'well', '<END>']\n",
    "[ idx for idx,x in enumerate(s2) if x=='well' ]"
   ]
  },
  {
   "cell_type": "code",
   "execution_count": null,
   "id": "0e78789e-259c-476c-8140-ef13121e9491",
   "metadata": {},
   "outputs": [],
   "source": []
  }
 ],
 "metadata": {
  "kernelspec": {
   "display_name": "Python 3 (ipykernel)",
   "language": "python",
   "name": "python3"
  },
  "language_info": {
   "codemirror_mode": {
    "name": "ipython",
    "version": 3
   },
   "file_extension": ".py",
   "mimetype": "text/x-python",
   "name": "python",
   "nbconvert_exporter": "python",
   "pygments_lexer": "ipython3",
   "version": "3.12.4"
  }
 },
 "nbformat": 4,
 "nbformat_minor": 5
}
