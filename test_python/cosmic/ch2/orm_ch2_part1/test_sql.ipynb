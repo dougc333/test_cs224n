{
 "cells": [
  {
   "cell_type": "code",
   "execution_count": 9,
   "metadata": {},
   "outputs": [
    {
     "name": "stdout",
     "output_type": "stream",
     "text": [
      "user is: user <class 'sqlalchemy.sql.schema.Table'>\n",
      "metadata is: MetaData(bind=Engine(sqlite://))\n"
     ]
    }
   ],
   "source": [
    "from sqlalchemy import MetaData,Table, Column, Integer, String, create_engine\n",
    "\n",
    "\n",
    "engine = create_engine('sqlite://')\n",
    "metadata = MetaData(bind=engine)\n",
    "\n",
    "\n",
    "user = Table('user', metadata,\n",
    "    Column('user_id', Integer, primary_key=True),\n",
    "    Column('user_name', String(255), nullable=False),\n",
    "    Column('email_address', String(255),nullable=False)\n",
    ")\n",
    "\n",
    "print(\"user is:\",user,type(user))\n",
    "#verify metadata bound to engine\n",
    "print(\"metadata is:\",metadata) "
   ]
  }
 ],
 "metadata": {
  "interpreter": {
   "hash": "53d4678d88891fb05e04416eb1a742497c0b0baabdd52f6ad28cb1ed11944cce"
  },
  "kernelspec": {
   "display_name": "Python 3.9.7 ('cosmic')",
   "language": "python",
   "name": "python3"
  },
  "language_info": {
   "codemirror_mode": {
    "name": "ipython",
    "version": 3
   },
   "file_extension": ".py",
   "mimetype": "text/x-python",
   "name": "python",
   "nbconvert_exporter": "python",
   "pygments_lexer": "ipython3",
   "version": "3.9.7"
  },
  "orig_nbformat": 4
 },
 "nbformat": 4,
 "nbformat_minor": 2
}
